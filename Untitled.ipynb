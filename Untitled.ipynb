{
 "cells": [
  {
   "cell_type": "code",
   "execution_count": 31,
   "metadata": {},
   "outputs": [],
   "source": [
    "import numpy as np\n",
    "import pandas as pd\n",
    "from matplotlib import pyplot as plt\n",
    "%matplotlib inline"
   ]
  },
  {
   "cell_type": "code",
   "execution_count": 33,
   "metadata": {},
   "outputs": [
    {
     "name": "stdout",
     "output_type": "stream",
     "text": [
      "(42000, 785)\n"
     ]
    }
   ],
   "source": [
    "ds = pd.read_csv('C:\\\\Users\\\\Dell\\\\Desktop\\\\train.csv')\n",
    "print(ds.shape)"
   ]
  },
  {
   "cell_type": "code",
   "execution_count": 34,
   "metadata": {},
   "outputs": [
    {
     "name": "stdout",
     "output_type": "stream",
     "text": [
      "(42000, 785)\n"
     ]
    }
   ],
   "source": [
    "data = ds.values\n",
    "print(data.shape)"
   ]
  },
  {
   "cell_type": "code",
   "execution_count": 42,
   "metadata": {},
   "outputs": [
    {
     "name": "stdout",
     "output_type": "stream",
     "text": [
      "(42000,) (42000, 784)\n",
      "2\n"
     ]
    },
    {
     "data": {
      "image/png": "[encoded data removed]",
      "text/plain": [
       "<Figure size 432x288 with 1 Axes>"
      ]
     },
     "metadata": {},
     "output_type": "display_data"
    }
   ],
   "source": [
    "y_train =data[:, 0]\n",
    "X_train =data[:, 1:]\n",
    "id=int(np.random.random()*X_train.shape[0])\n",
    "# X_train = (X_train - X_train.mean(axis=0))/(X_train.std(axis=0) + 1e-03)\n",
    "print(y_train.shape,X_train.shape)\n",
    "plt.figure(0)\n",
    "idx=104\n",
    "print(y_train[idx])\n",
    "plt.imshow(X_train[idx].reshape((28,28)),cmap='gray')\n",
    "plt.show()"
   ]
  },
  {
   "cell_type": "code",
   "execution_count": 36,
   "metadata": {},
   "outputs": [],
   "source": [
    "def dist(x1,x2) :\n",
    "    return np.sqrt(((x1-x2)**2).sum())"
   ]
  },
  {
   "cell_type": "code",
   "execution_count": 40,
   "metadata": {},
   "outputs": [],
   "source": [
    "def knn(X_train,x,y_train,k=5) :\n",
    "    val =[]\n",
    "    for i in range(X_train.shape[0]) :\n",
    "        v=[dist(x,X_train[i,: ]),y_train[i]]\n",
    "        val.append(v)\n",
    "    updated_val = sorted(val,key=lambda x : x[0])\n",
    "    p = np.asarray(updated_val[:k])\n",
    "    p=np.unique(p[:, 1],return_counts=True)\n",
    "    pred= p[1].argmax()\n",
    "    return p,p[0][pred]"
   ]
  },
  {
   "cell_type": "code",
   "execution_count": 43,
   "metadata": {},
   "outputs": [
    {
     "name": "stdout",
     "output_type": "stream",
     "text": [
      "((array([8.]), array([7])), 8.0)\n",
      "8\n"
     ]
    },
    {
     "data": {
      "image/png": "[encoded data removed]",
      "text/plain": [
       "<Figure size 432x288 with 1 Axes>"
      ]
     },
     "metadata": {},
     "output_type": "display_data"
    }
   ],
   "source": [
    "q=X_train[id]\n",
    "result =knn(X_train[:10000],q,y_train[:10000],k=7)\n",
    "print(result)\n",
    "print(y_train[id])\n",
    "plt.figure(0)\n",
    "plt.imshow(q.reshape((28,28)),cmap='gray')\n",
    "plt.show()"
   ]
  }
 ],
 "metadata": {
  "kernelspec": {
   "display_name": "Python 3",
   "language": "python",
   "name": "python3"
  },
  "language_info": {
   "codemirror_mode": {
    "name": "ipython",
    "version": 3
   },
   "file_extension": ".py",
   "mimetype": "text/x-python",
   "name": "python",
   "nbconvert_exporter": "python",
   "pygments_lexer": "ipython3",
   "version": "3.6.5"
  }
 },
 "nbformat": 4,
 "nbformat_minor": 2
}
